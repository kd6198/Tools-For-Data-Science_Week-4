{
 "cells": [
  {
   "cell_type": "markdown",
   "id": "cf69146e",
   "metadata": {},
   "source": [
    "<h1>My Jupyter Notebook on IBM Watson Studio"
   ]
  },
  {
   "cell_type": "markdown",
   "id": "f393a862",
   "metadata": {},
   "source": [
    "**Darshak Kansagra**"
   ]
  },
  {
   "cell_type": "markdown",
   "id": "8b9480cf",
   "metadata": {},
   "source": [
    "Data Analyst"
   ]
  },
  {
   "cell_type": "markdown",
   "id": "350804ee",
   "metadata": {},
   "source": [
    "*I am interested in data science because I have realised the importance of data analytics in business. It helps create competitive edge for businesses over competitors. Additionally, there is a high shortage of data scientists, hence I want to pursue data science.*"
   ]
  },
  {
   "cell_type": "markdown",
   "id": "248c2fb9",
   "metadata": {},
   "source": [
    "### The following code will add two numbers, namely 49 & 51."
   ]
  },
  {
   "cell_type": "code",
   "execution_count": 2,
   "id": "407784ee",
   "metadata": {},
   "outputs": [
    {
     "data": {
      "text/plain": [
       "100"
      ]
     },
     "execution_count": 2,
     "metadata": {},
     "output_type": "execute_result"
    }
   ],
   "source": [
    "49+51"
   ]
  },
  {
   "cell_type": "markdown",
   "id": "7241a753",
   "metadata": {},
   "source": [
    "- First Bullet\n",
    "- Second Bullet\n",
    "- Third Bullet\n",
    "\n",
    "1. One\n",
    "2. Two\n",
    "3. Third\n",
    "\n",
    "> First Quoting"
   ]
  },
  {
   "cell_type": "markdown",
   "id": "954d17fd",
   "metadata": {},
   "source": [
    "> Second Quoting"
   ]
  },
  {
   "cell_type": "markdown",
   "id": "b02d4932",
   "metadata": {},
   "source": [
    "> Third Quoting"
   ]
  },
  {
   "cell_type": "code",
   "execution_count": null,
   "id": "81175afc",
   "metadata": {},
   "outputs": [],
   "source": []
  }
 ],
 "metadata": {
  "kernelspec": {
   "display_name": "Python 3 (ipykernel)",
   "language": "python",
   "name": "python3"
  },
  "language_info": {
   "codemirror_mode": {
    "name": "ipython",
    "version": 3
   },
   "file_extension": ".py",
   "mimetype": "text/x-python",
   "name": "python",
   "nbconvert_exporter": "python",
   "pygments_lexer": "ipython3",
   "version": "3.9.12"
  }
 },
 "nbformat": 4,
 "nbformat_minor": 5
}
